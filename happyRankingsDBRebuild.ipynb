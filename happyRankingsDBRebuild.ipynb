{
 "cells": [
  {
   "cell_type": "markdown",
   "metadata": {},
   "source": [
    "# World Happiness Rankings Database Rebuild"
   ]
  },
  {
   "cell_type": "code",
   "execution_count": 21,
   "metadata": {},
   "outputs": [],
   "source": [
    "# Pandas and Matplotlib\n",
    "import pandas as pd\n",
    "import matplotlib as mpl\n",
    "import matplotlib.pyplot as plt\n",
    "\n",
    "# Python SQL toolkit and Object Relational Mapper\n",
    "from sqlalchemy import create_engine, func, distinct\n",
    "from sqlalchemy import Column, Integer, String, Float\n",
    "from sqlalchemy.ext.automap import automap_base\n",
    "from sqlalchemy.orm import Session\n",
    "\n",
    "# SQLite \n",
    "import sqlite3\n",
    "from sqlite3 import Error\n",
    "\n",
    "# General tools\n",
    "import os\n",
    "import csv\n",
    "import itertools\n",
    "import glob\n",
    "from tabulate import tabulate"
   ]
  },
  {
   "cell_type": "code",
   "execution_count": 22,
   "metadata": {},
   "outputs": [],
   "source": [
    "# Brute force csv read -- just in case\n",
    "rankings2015 = pd.read_csv(r'c:/Users/Rudy/Desktop/DataViz/happiness-project/data/dataRebuild/2015.csv')\n",
    "rankings2016 = pd.read_csv(r'c:/Users/Rudy/Desktop/DataViz/happiness-project/data/dataRebuild/2016.csv')\n",
    "rankings2017 = pd.read_csv(r'c:/Users/Rudy/Desktop/DataViz/happiness-project/data/dataRebuild/2017.csv')\n",
    "rankings2018 = pd.read_csv(r'c:/Users/Rudy/Desktop/DataViz/happiness-project/data/dataRebuild/2018.csv')\n",
    "rankings2019 = pd.read_csv(r'c:/Users/Rudy/Desktop/DataViz/happiness-project/data/dataRebuild/2019.csv')"
   ]
  },
  {
   "cell_type": "markdown",
   "metadata": {},
   "source": [
    "### Data extraction\n",
    "##### Requests all .csv files from path and assigns to list and dictionary for sqlite database and analysis, respectively."
   ]
  },
  {
   "cell_type": "code",
   "execution_count": 41,
   "metadata": {},
   "outputs": [],
   "source": [
    "# New data path\n",
    "path = r'c:/Users/Rudy/Desktop/DataViz/happiness-project/data/dataRebuild'\n",
    "    \n",
    "def getCSVFiles():\n",
    "    if os.path.isdir(path):\n",
    "        # Request ALL .csv files from path. List comprehension to assign csv's to array\n",
    "        csvFiles = glob.glob(os.path.join(path, '*.csv'))\n",
    "        rankingsDF = [pd.read_csv(df) for df in csvFiles]\n",
    "        return csvFiles, rankingsDF\n",
    "    else:\n",
    "        pass\n",
    "    \n",
    "# getCSVFiles()"
   ]
  },
  {
   "cell_type": "code",
   "execution_count": 42,
   "metadata": {},
   "outputs": [],
   "source": [
    "# Dict comprehension to assign csv names to their respective dataframe\n",
    "csvNames = ['rankings2015', 'rankings2016', 'rankings2017', 'rankings2018', 'rankings2019'] \n",
    "rankingsDict = {df: rankingsDF for df in csvNames}\n",
    "\n",
    "#######################################\n",
    "# Uncomment to view entire dictionary #\n",
    "#######################################\n",
    "\n",
    "# print(tabulate(rankingsDict, headers='keys', tablefmt='psql'))"
   ]
  },
  {
   "cell_type": "code",
   "execution_count": 43,
   "metadata": {},
   "outputs": [
    {
     "data": {
      "text/plain": [
       "'Connection is established: Database is created in memory'"
      ]
     },
     "execution_count": 43,
     "metadata": {},
     "output_type": "execute_result"
    }
   ],
   "source": [
    "# Establish connection with database\n",
    "def sql_connection():\n",
    "    try:\n",
    "        conn = sqlite3.connect('yearlyRankingsDB.sqlite')\n",
    "        return \"Connection is established: Database is created in memory\"\n",
    "    except Error as e:\n",
    "        print(e)\n",
    "    finally:\n",
    "        conn.close()\n",
    "        \n",
    "sql_connection()"
   ]
  },
  {
   "cell_type": "code",
   "execution_count": 48,
   "metadata": {},
   "outputs": [
    {
     "ename": "NameError",
     "evalue": "name 'con' is not defined",
     "output_type": "error",
     "traceback": [
      "\u001b[1;31m---------------------------------------------------------------------------\u001b[0m",
      "\u001b[1;31mNameError\u001b[0m                                 Traceback (most recent call last)",
      "\u001b[1;32m<ipython-input-48-0b5cd9fb25b3>\u001b[0m in \u001b[0;36m<module>\u001b[1;34m\u001b[0m\n\u001b[0;32m      4\u001b[0m \u001b[1;32mfor\u001b[0m \u001b[0mdf\u001b[0m \u001b[1;32min\u001b[0m \u001b[0mrankingsDF\u001b[0m\u001b[1;33m:\u001b[0m\u001b[1;33m\u001b[0m\u001b[1;33m\u001b[0m\u001b[0m\n\u001b[0;32m      5\u001b[0m     \u001b[1;32mfor\u001b[0m \u001b[0mcsv\u001b[0m \u001b[1;32min\u001b[0m \u001b[0mcsvNames\u001b[0m\u001b[1;33m:\u001b[0m\u001b[1;33m\u001b[0m\u001b[1;33m\u001b[0m\u001b[0m\n\u001b[1;32m----> 6\u001b[1;33m         \u001b[0mdf\u001b[0m\u001b[1;33m.\u001b[0m\u001b[0mto_sql\u001b[0m\u001b[1;33m(\u001b[0m\u001b[0mcsv\u001b[0m\u001b[1;33m,\u001b[0m \u001b[0mcon\u001b[0m\u001b[1;33m,\u001b[0m \u001b[0mif_exists\u001b[0m\u001b[1;33m=\u001b[0m\u001b[1;34m'replace'\u001b[0m\u001b[1;33m,\u001b[0m \u001b[0mindex_label\u001b[0m \u001b[1;33m=\u001b[0m \u001b[1;34m'id'\u001b[0m\u001b[1;33m)\u001b[0m\u001b[1;33m\u001b[0m\u001b[1;33m\u001b[0m\u001b[0m\n\u001b[0m\u001b[0;32m      7\u001b[0m     \u001b[0mprint\u001b[0m\u001b[1;33m(\u001b[0m\u001b[0mdf\u001b[0m \u001b[1;33m+\u001b[0m \u001b[1;34m\" has been completed successfully.\"\u001b[0m\u001b[1;33m)\u001b[0m\u001b[1;33m\u001b[0m\u001b[1;33m\u001b[0m\u001b[0m\n\u001b[0;32m      8\u001b[0m \u001b[0mprint\u001b[0m\u001b[1;33m(\u001b[0m\u001b[1;34m\"All completed.\"\u001b[0m\u001b[1;33m)\u001b[0m\u001b[1;33m\u001b[0m\u001b[1;33m\u001b[0m\u001b[0m\n",
      "\u001b[1;31mNameError\u001b[0m: name 'con' is not defined"
     ]
    }
   ],
   "source": [
    "yearlyRankingsDB = 'yearlyRankingsDB.sqlite'\n",
    "engine = create_engine(f\"sqlite:///{yearlyRankingsDB}\", echo=False)\n",
    "\n",
    "for df in rankingsDF:\n",
    "    for csv in csvNames:\n",
    "        df.to_sql(csv, conn, if_exists='replace', index_label = 'id')\n",
    "    print(df + \" has been completed successfully.\")\n",
    "print(\"All completed.\")"
   ]
  },
  {
   "cell_type": "code",
   "execution_count": 35,
   "metadata": {},
   "outputs": [
    {
     "data": {
      "text/plain": [
       "[(0, 'Switzerland', 'Western Europe', 1, 7.587000000000001, 0.03411, 1.3965100000000001, 1.34951, 0.9414299999999999, 0.66557, 0.41978000000000004, 0.29678000000000004, 2.5173799999999997),\n",
       " (1, 'Iceland', 'Western Europe', 2, 7.561, 0.048839999999999995, 1.3023200000000001, 1.4022299999999999, 0.94784, 0.6287699999999999, 0.14145, 0.4363, 2.70201),\n",
       " (2, 'Denmark', 'Western Europe', 3, 7.527, 0.033280000000000004, 1.32548, 1.36058, 0.87464, 0.6493800000000001, 0.48357, 0.34139, 2.4920400000000003),\n",
       " (3, 'Norway', 'Western Europe', 4, 7.522, 0.0388, 1.459, 1.33095, 0.88521, 0.66973, 0.36503, 0.34699, 2.4653099999999997),\n",
       " (4, 'Canada', 'North America', 5, 7.4270000000000005, 0.03553, 1.32629, 1.32261, 0.9056299999999999, 0.63297, 0.32957, 0.45811, 2.4517599999999997)]"
      ]
     },
     "execution_count": 35,
     "metadata": {},
     "output_type": "execute_result"
    }
   ],
   "source": [
    "# Verify query of table from db\n",
    "engine.execute('SELECT * FROM rankings2015 LIMIT 5').fetchall()"
   ]
  },
  {
   "cell_type": "code",
   "execution_count": null,
   "metadata": {},
   "outputs": [],
   "source": []
  }
 ],
 "metadata": {
  "kernelspec": {
   "display_name": "Python 3",
   "language": "python",
   "name": "python3"
  },
  "language_info": {
   "codemirror_mode": {
    "name": "ipython",
    "version": 3
   },
   "file_extension": ".py",
   "mimetype": "text/x-python",
   "name": "python",
   "nbconvert_exporter": "python",
   "pygments_lexer": "ipython3",
   "version": "3.7.3"
  }
 },
 "nbformat": 4,
 "nbformat_minor": 4
}
