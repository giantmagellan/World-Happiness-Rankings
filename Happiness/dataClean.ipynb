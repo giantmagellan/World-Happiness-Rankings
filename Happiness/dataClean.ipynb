{
 "cells": [
  {
   "cell_type": "code",
   "execution_count": 1,
   "metadata": {},
   "outputs": [],
   "source": [
    "# Dependencies\n",
    "# SQLite\n",
    "import sqlite3\n",
    "from sqlite3 import Error\n",
    "\n",
    "# Python SQL toolkit and Object Relational Mapper\n",
    "from sqlalchemy import create_engine, func, distinct\n",
    "from sqlalchemy import Column, Integer, String, Float\n",
    "from sqlalchemy.ext.automap import automap_base\n",
    "from sqlalchemy.orm import Session\n",
    "\n",
    "# Pandas\n",
    "import pandas as pd\n",
    "import csv"
   ]
  },
  {
   "cell_type": "code",
   "execution_count": 9,
   "metadata": {},
   "outputs": [],
   "source": [
    "# Using Pandas to import csv to sqlite database\n",
    "conn = sqlite3.connect('happiness_ranks.sqlite')\n",
    "c = conn.cursor()\n",
    "# load data\n",
    "happy_df = pd.read_csv(r'C:\\Users\\Rudy\\Desktop\\happiness-project\\Happiness\\data\\2019_world_happy_rankings.csv')\n",
    "# strip whitespace from headers\n",
    "happy_df.columns = happy_df.columns.str.strip()\n",
    "# drop data into database\n",
    "happy_df.to_sql('HappinessRankings', conn, if_exists='append', index=False)\n",
    "\n",
    "conn.close()"
   ]
  }
 ],
 "metadata": {
  "kernelspec": {
   "display_name": "Python 3",
   "language": "python",
   "name": "python3"
  },
  "language_info": {
   "codemirror_mode": {
    "name": "ipython",
    "version": 3
   },
   "file_extension": ".py",
   "mimetype": "text/x-python",
   "name": "python",
   "nbconvert_exporter": "python",
   "pygments_lexer": "ipython3",
   "version": "3.7.3"
  }
 },
 "nbformat": 4,
 "nbformat_minor": 4
}
