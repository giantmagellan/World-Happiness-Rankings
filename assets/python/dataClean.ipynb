{
 "cells": [
  {
   "cell_type": "code",
   "execution_count": 4,
   "metadata": {},
   "outputs": [],
   "source": [
    "# Dependencies\n",
    "# SQLite\n",
    "import sqlite3\n",
    "from sqlite3 import Error\n",
    "\n",
    "# SQLAlchemy\n",
    "from sqlalchemy import create_engine\n",
    "from sqlalchemy import Column, Integer, String, Float\n",
    "\n",
    "# Pandas\n",
    "import pandas as pd\n",
    "import csv"
   ]
  },
  {
   "cell_type": "code",
   "execution_count": 7,
   "metadata": {},
   "outputs": [],
   "source": [
    "# Using Pandas to import csv to sqlite database\n",
    "\n",
    "# load data\n",
    "happy_df = pd.read_csv(r'C:\\Users\\Rudy\\Desktop\\DataViz\\projects\\happiness-project\\assets\\data\\2019_world_happy_rankings.csv')\n",
    "\n",
    "# strip whitespace from headers\n",
    "happy_df.columns = happy_df.columns.str.strip()\n",
    "\n",
    "conn = sqlite3.connect('happy_ranks.sqlite')\n",
    "\n",
    "# drop data into database\n",
    "happy_df.to_sql('Rankings', conn, if_exists='append', index=False)\n",
    "\n",
    "conn.close()"
   ]
  },
  {
   "cell_type": "code",
   "execution_count": 9,
   "metadata": {},
   "outputs": [
    {
     "output_type": "execute_result",
     "data": {
      "text/plain": "    Overall rank Country or region  Score  GDP per capita  Social support  \\\n0              1           Finland  7.769           1.340           1.587   \n1              2           Denmark  7.600           1.383           1.573   \n2              3            Norway  7.554           1.488           1.582   \n3              4           Iceland  7.494           1.380           1.624   \n4              5       Netherlands  7.488           1.396           1.522   \n5              6       Switzerland  7.480           1.452           1.526   \n6              7            Sweden  7.343           1.387           1.487   \n7              8       New Zealand  7.307           1.303           1.557   \n8              9            Canada  7.278           1.365           1.505   \n9             10           Austria  7.246           1.376           1.475   \n10            11         Australia  7.228           1.372           1.548   \n11            12        Costa Rica  7.167           1.034           1.441   \n12            13            Israel  7.139           1.276           1.455   \n13            14        Luxembourg  7.090           1.609           1.479   \n14            15    United Kingdom  7.054           1.333           1.538   \n\n    Healthy life expectancy  Freedom to make life choices  Generosity  \\\n0                     0.986                         0.596       0.153   \n1                     0.996                         0.592       0.252   \n2                     1.028                         0.603       0.271   \n3                     1.026                         0.591       0.354   \n4                     0.999                         0.557       0.322   \n5                     1.052                         0.572       0.263   \n6                     1.009                         0.574       0.267   \n7                     1.026                         0.585       0.330   \n8                     1.039                         0.584       0.285   \n9                     1.016                         0.532       0.244   \n10                    1.036                         0.557       0.332   \n11                    0.963                         0.558       0.144   \n12                    1.029                         0.371       0.261   \n13                    1.012                         0.526       0.194   \n14                    0.996                         0.450       0.348   \n\n    Perceptions of corruption  \n0                       0.393  \n1                       0.410  \n2                       0.341  \n3                       0.118  \n4                       0.298  \n5                       0.343  \n6                       0.373  \n7                       0.380  \n8                       0.308  \n9                       0.226  \n10                      0.290  \n11                      0.093  \n12                      0.082  \n13                      0.316  \n14                      0.278  ",
      "text/html": "<div>\n<style scoped>\n    .dataframe tbody tr th:only-of-type {\n        vertical-align: middle;\n    }\n\n    .dataframe tbody tr th {\n        vertical-align: top;\n    }\n\n    .dataframe thead th {\n        text-align: right;\n    }\n</style>\n<table border=\"1\" class=\"dataframe\">\n  <thead>\n    <tr style=\"text-align: right;\">\n      <th></th>\n      <th>Overall rank</th>\n      <th>Country or region</th>\n      <th>Score</th>\n      <th>GDP per capita</th>\n      <th>Social support</th>\n      <th>Healthy life expectancy</th>\n      <th>Freedom to make life choices</th>\n      <th>Generosity</th>\n      <th>Perceptions of corruption</th>\n    </tr>\n  </thead>\n  <tbody>\n    <tr>\n      <th>0</th>\n      <td>1</td>\n      <td>Finland</td>\n      <td>7.769</td>\n      <td>1.340</td>\n      <td>1.587</td>\n      <td>0.986</td>\n      <td>0.596</td>\n      <td>0.153</td>\n      <td>0.393</td>\n    </tr>\n    <tr>\n      <th>1</th>\n      <td>2</td>\n      <td>Denmark</td>\n      <td>7.600</td>\n      <td>1.383</td>\n      <td>1.573</td>\n      <td>0.996</td>\n      <td>0.592</td>\n      <td>0.252</td>\n      <td>0.410</td>\n    </tr>\n    <tr>\n      <th>2</th>\n      <td>3</td>\n      <td>Norway</td>\n      <td>7.554</td>\n      <td>1.488</td>\n      <td>1.582</td>\n      <td>1.028</td>\n      <td>0.603</td>\n      <td>0.271</td>\n      <td>0.341</td>\n    </tr>\n    <tr>\n      <th>3</th>\n      <td>4</td>\n      <td>Iceland</td>\n      <td>7.494</td>\n      <td>1.380</td>\n      <td>1.624</td>\n      <td>1.026</td>\n      <td>0.591</td>\n      <td>0.354</td>\n      <td>0.118</td>\n    </tr>\n    <tr>\n      <th>4</th>\n      <td>5</td>\n      <td>Netherlands</td>\n      <td>7.488</td>\n      <td>1.396</td>\n      <td>1.522</td>\n      <td>0.999</td>\n      <td>0.557</td>\n      <td>0.322</td>\n      <td>0.298</td>\n    </tr>\n    <tr>\n      <th>5</th>\n      <td>6</td>\n      <td>Switzerland</td>\n      <td>7.480</td>\n      <td>1.452</td>\n      <td>1.526</td>\n      <td>1.052</td>\n      <td>0.572</td>\n      <td>0.263</td>\n      <td>0.343</td>\n    </tr>\n    <tr>\n      <th>6</th>\n      <td>7</td>\n      <td>Sweden</td>\n      <td>7.343</td>\n      <td>1.387</td>\n      <td>1.487</td>\n      <td>1.009</td>\n      <td>0.574</td>\n      <td>0.267</td>\n      <td>0.373</td>\n    </tr>\n    <tr>\n      <th>7</th>\n      <td>8</td>\n      <td>New Zealand</td>\n      <td>7.307</td>\n      <td>1.303</td>\n      <td>1.557</td>\n      <td>1.026</td>\n      <td>0.585</td>\n      <td>0.330</td>\n      <td>0.380</td>\n    </tr>\n    <tr>\n      <th>8</th>\n      <td>9</td>\n      <td>Canada</td>\n      <td>7.278</td>\n      <td>1.365</td>\n      <td>1.505</td>\n      <td>1.039</td>\n      <td>0.584</td>\n      <td>0.285</td>\n      <td>0.308</td>\n    </tr>\n    <tr>\n      <th>9</th>\n      <td>10</td>\n      <td>Austria</td>\n      <td>7.246</td>\n      <td>1.376</td>\n      <td>1.475</td>\n      <td>1.016</td>\n      <td>0.532</td>\n      <td>0.244</td>\n      <td>0.226</td>\n    </tr>\n    <tr>\n      <th>10</th>\n      <td>11</td>\n      <td>Australia</td>\n      <td>7.228</td>\n      <td>1.372</td>\n      <td>1.548</td>\n      <td>1.036</td>\n      <td>0.557</td>\n      <td>0.332</td>\n      <td>0.290</td>\n    </tr>\n    <tr>\n      <th>11</th>\n      <td>12</td>\n      <td>Costa Rica</td>\n      <td>7.167</td>\n      <td>1.034</td>\n      <td>1.441</td>\n      <td>0.963</td>\n      <td>0.558</td>\n      <td>0.144</td>\n      <td>0.093</td>\n    </tr>\n    <tr>\n      <th>12</th>\n      <td>13</td>\n      <td>Israel</td>\n      <td>7.139</td>\n      <td>1.276</td>\n      <td>1.455</td>\n      <td>1.029</td>\n      <td>0.371</td>\n      <td>0.261</td>\n      <td>0.082</td>\n    </tr>\n    <tr>\n      <th>13</th>\n      <td>14</td>\n      <td>Luxembourg</td>\n      <td>7.090</td>\n      <td>1.609</td>\n      <td>1.479</td>\n      <td>1.012</td>\n      <td>0.526</td>\n      <td>0.194</td>\n      <td>0.316</td>\n    </tr>\n    <tr>\n      <th>14</th>\n      <td>15</td>\n      <td>United Kingdom</td>\n      <td>7.054</td>\n      <td>1.333</td>\n      <td>1.538</td>\n      <td>0.996</td>\n      <td>0.450</td>\n      <td>0.348</td>\n      <td>0.278</td>\n    </tr>\n  </tbody>\n</table>\n</div>"
     },
     "metadata": {},
     "execution_count": 9
    }
   ],
   "source": [
    "happy_df.head(15)"
   ]
  },
  {
   "cell_type": "code",
   "execution_count": null,
   "metadata": {},
   "outputs": [],
   "source": [
    "# # Creating Rankings class\n",
    "# # -----------------------\n",
    "# class Rankings(Base):\n",
    "#     __tablename__ = 'rankings'\n",
    "#     overall_rank = Column(Integer)\n",
    "#     country_or_region = Column(String(255))\n"
   ]
  },
  {
   "cell_type": "code",
   "execution_count": null,
   "metadata": {},
   "outputs": [],
   "source": []
  }
 ],
 "metadata": {
  "kernelspec": {
   "display_name": "Python 3.7.3 64-bit ('base': conda)",
   "language": "python",
   "name": "python37364bitbaseconda8b8387ecfd4547b0b305075350132ee9"
  },
  "language_info": {
   "codemirror_mode": {
    "name": "ipython",
    "version": 3
   },
   "file_extension": ".py",
   "mimetype": "text/x-python",
   "name": "python",
   "nbconvert_exporter": "python",
   "pygments_lexer": "ipython3",
   "version": "3.7.3-final"
  }
 },
 "nbformat": 4,
 "nbformat_minor": 4
}